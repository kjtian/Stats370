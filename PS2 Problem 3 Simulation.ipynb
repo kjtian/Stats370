{
 "cells": [
  {
   "cell_type": "code",
   "execution_count": 17,
   "metadata": {
    "collapsed": true
   },
   "outputs": [],
   "source": [
    "import math\n",
    "\n",
    "def accept(x1, x2, mu, sigma):\n",
    "    mu_hat = (x1 + x2) / 2\n",
    "    sigma_hat = math.sqrt(((x1 - mu_hat) ** 2) + ((x2 - mu_hat) ** 2))\n",
    "    t_hat = abs(mu_hat - mu) / sigma_hat\n",
    "    if t_hat <= 1.0 / math.sqrt(2.0):\n",
    "        return True\n",
    "    return False"
   ]
  },
  {
   "cell_type": "code",
   "execution_count": 121,
   "metadata": {
    "collapsed": false
   },
   "outputs": [
    {
     "name": "stdout",
     "output_type": "stream",
     "text": [
      "\n"
     ]
    }
   ],
   "source": [
    "def condition_relevant_subset(sample):\n",
    "    x1, x2 = sample[0], sample[1]\n",
    "    c = 1 / math.tan(math.pi/8.0)\n",
    "    mu_hat = (x1 + x2) / 2\n",
    "    sigma_hat = math.sqrt(((x1 - mu_hat) ** 2) + ((x2 - mu_hat) ** 2))\n",
    "    if abs(mu_hat) <= c * sigma_hat:\n",
    "        return True\n",
    "    return False"
   ]
  },
  {
   "cell_type": "code",
   "execution_count": 107,
   "metadata": {
    "collapsed": true
   },
   "outputs": [],
   "source": [
    "import numpy as np"
   ]
  },
  {
   "cell_type": "code",
   "execution_count": 134,
   "metadata": {
    "collapsed": false
   },
   "outputs": [
    {
     "name": "stdout",
     "output_type": "stream",
     "text": [
      "8 0.50019 1.0\n",
      "42 0.50163 1.0\n",
      "129 0.50008 0.992248062016\n",
      "545 0.50261 0.952293577982\n",
      "1708 0.50023 0.933840749415\n",
      "4665 0.50034 0.899892818864\n",
      "11092 0.49974 0.859899026325\n",
      "23278 0.49983 0.810550734599\n",
      "42382 0.49733 0.743570383653\n",
      "67344 0.49823 0.657267165598\n",
      "81958 0.49924 0.609141267478\n",
      "67486 0.50052 0.658269863379\n",
      "42727 0.50135 0.74388559927\n",
      "23200 0.49844 0.812715517241\n",
      "11177 0.50039 0.855685783305\n",
      "4676 0.49898 0.905902480753\n",
      "1731 0.49968 0.934719815136\n",
      "496 0.4983 0.959677419355\n",
      "145 0.49928 0.979310344828\n",
      "48 0.49811 0.979166666667\n",
      "5 0.49911 1.0\n"
     ]
    }
   ],
   "source": [
    "for i in xrange(-10, 11):\n",
    "    mu, sigma = float(i), 1.0\n",
    "    samples = np.random.normal(loc=mu, scale=sigma, size=(100000, 2))\n",
    "    a = [accept(samples[i][0], samples[i][1], mu, sigma) for i in xrange(len(samples))]\n",
    "    conditioned_samples = [sample for sample in samples if condition_relevant_subset(sample)]\n",
    "    ac = [accept(conditioned_samples[i][0], conditioned_samples[i][1], mu, sigma) for i in xrange(len(conditioned_samples))]\n",
    "    print len(conditioned_samples), sum(a) / float(len(a)), sum(ac) / float(len(ac))"
   ]
  },
  {
   "cell_type": "code",
   "execution_count": null,
   "metadata": {
    "collapsed": true
   },
   "outputs": [],
   "source": []
  }
 ],
 "metadata": {
  "anaconda-cloud": {},
  "kernelspec": {
   "display_name": "Python [conda root]",
   "language": "python",
   "name": "conda-root-py"
  },
  "language_info": {
   "codemirror_mode": {
    "name": "ipython",
    "version": 2
   },
   "file_extension": ".py",
   "mimetype": "text/x-python",
   "name": "python",
   "nbconvert_exporter": "python",
   "pygments_lexer": "ipython2",
   "version": "2.7.12"
  }
 },
 "nbformat": 4,
 "nbformat_minor": 1
}
